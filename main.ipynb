{
 "cells": [
  {
   "cell_type": "code",
   "execution_count": 1,
   "metadata": {},
   "outputs": [],
   "source": [
    "import parser\n",
    "import re\n",
    "import argparse\n",
    "import os\n",
    "import shutil\n",
    "import time\n",
    "import math\n",
    "import logging\n",
    "\n",
    "import numpy as np\n",
    "import torch\n",
    "import torch.nn as nn\n",
    "import torch.nn.functional as F\n",
    "import torch.backends.cudnn as cudnn\n",
    "from torch.autograd import Variable\n",
    "from torch.utils.data import DataLoader\n",
    "from torch.utils.data.sampler import BatchSampler, SubsetRandomSampler\n",
    "import torchvision.datasets\n",
    "from torchvision import models\n",
    "from torch.optim import lr_scheduler\n",
    "\n",
    "from mean_teacher import architectures, datasets, data, losses, ramps, cli\n",
    "from mean_teacher.run_context import RunContext\n",
    "from mean_teacher.data import NO_LABEL\n",
    "from mean_teacher.utils import *\n",
    "\n",
    "import matplotlib.pyplot as plt\n",
    "from visdom import Visdom\n",
    "\n",
    "LOG = logging.getLogger('main')\n",
    "\n",
    "best_prec1 = 0\n",
    "global_step = 0\n",
    "device = torch.device(\"cuda:0\" if torch.cuda.is_available() else \"cpu\")"
   ]
  },
  {
   "cell_type": "markdown",
   "metadata": {},
   "source": [
    "# Hyperparameters"
   ]
  },
  {
   "cell_type": "code",
   "execution_count": 2,
   "metadata": {},
   "outputs": [],
   "source": [
    "class args:\n",
    "    train_subdir = 'train'    \n",
    "    eval_subdir = 'test'\n",
    "    \n",
    "    workers = 2\n",
    "    labels = '/home/bdggj/Documents/facade_defects/semi-supervised/data-local/labels/facade/exersize_labeled_list2.txt'\n",
    "    dataset = 'facade'\n",
    "\n",
    "    pretrained =True\n",
    "    arch = False\n",
    "    \n",
    "    epochs = 20\n",
    "    start_epoch = 0\n",
    "    labeled_batch_size = 0\n",
    "    exclude_unlabeled = True\n",
    "    batch_size = 20\n",
    "    \n",
    "    lr = 0.001\n",
    "    initial_lr = 0.0\n",
    "    lr_rampup = 0 \n",
    "    lr_rampdown_epochs = None\n",
    "    momentum = 0.9\n",
    "    nesterov = False\n",
    "    weight_decay = 1e-4\n",
    "    ema_decay = 0.9997\n",
    "    consistency = None\n",
    "    consistency_type = 'mse'\n",
    "    consistency_rampup = 30\n",
    "    logit_distance_cost = -1\n",
    "    \n",
    "    checkpoint_epochs = 1\n",
    "    evaluation_epochs = 1\n",
    "    print_freq = 10\n",
    "    resume = ''\n",
    "    evaluate = None\n",
    "    \n",
    "    "
   ]
  },
  {
   "cell_type": "code",
   "execution_count": 3,
   "metadata": {},
   "outputs": [],
   "source": [
    "global global_step  # Changing Global Variable From Inside a Function\n",
    "global best_prec1\n",
    "\n",
    "context = RunContext(_, 0)\n",
    "training_log = context.create_train_log(\"training\")\n",
    "validation_log = context.create_train_log(\"validation\")\n",
    "ema_validation_log = context.create_train_log(\"ema_validation\")\n"
   ]
  },
  {
   "cell_type": "markdown",
   "metadata": {},
   "source": [
    "# Supplementary functions"
   ]
  },
  {
   "cell_type": "code",
   "execution_count": 4,
   "metadata": {},
   "outputs": [],
   "source": [
    "def update_ema_variables(model, ema_model, alpha, global_step):\n",
    "    # Use the true average until the exponential average is more correct\n",
    "    alpha = min(1 - 1 / (global_step + 1), alpha)\n",
    "    for ema_param, param in zip(ema_model.parameters(), model.parameters()):\n",
    "        ema_param.data.mul_(alpha).add_(1 - alpha, param.data)\n",
    "        # θ'_t = alpha*θ'_t-1 + (1 - alpha)*θ_t"
   ]
  },
  {
   "cell_type": "code",
   "execution_count": 5,
   "metadata": {},
   "outputs": [],
   "source": [
    "def adjust_learning_rate(optimizer, epoch, step_in_epoch, total_steps_in_epoch):\n",
    "    lr = args.lr\n",
    "    epoch = epoch + step_in_epoch / total_steps_in_epoch\n",
    "\n",
    "    # LR warm-up to handle large minibatch sizes from https://arxiv.org/abs/1706.02677\n",
    "    lr = ramps.linear_rampup(epoch, args.lr_rampup) * (args.lr - args.initial_lr) + args.initial_lr\n",
    "\n",
    "    # Cosine LR rampdown from https://arxiv.org/abs/1608.03983 (but one cycle only)\n",
    "    if args.lr_rampdown_epochs:\n",
    "        assert args.lr_rampdown_epochs >= args.epochs\n",
    "        lr *= ramps.cosine_rampdown(epoch, args.lr_rampdown_epochs)\n",
    "\n",
    "    for param_group in optimizer.param_groups:\n",
    "        param_group['lr'] = lr\n",
    "\n",
    "\n",
    "def get_current_consistency_weight(epoch):\n",
    "    # Consistency ramp-up from https://arxiv.org/abs/1610.02242\n",
    "    return args.consistency * ramps.sigmoid_rampup(epoch, args.consistency_rampup)"
   ]
  },
  {
   "cell_type": "code",
   "execution_count": 6,
   "metadata": {},
   "outputs": [],
   "source": [
    "def accuracy(output, target, topk=(1,)):\n",
    "    \"\"\"Computes the precision@k for the specified values of k\"\"\"\n",
    "    maxk = max(topk)\n",
    "    labeled_minibatch_size = max(target.ne(NO_LABEL).sum(), 1e-8)\n",
    "\n",
    "    _, pred = output.topk(maxk, 1, True, True) #pred is the index\n",
    "    pred = pred.t() #transpose\n",
    "    correct = pred.eq(target.view(1, -1).expand_as(pred))\n",
    "\n",
    "    res = []\n",
    "    for k in topk:\n",
    "        correct_k = correct[:k].view(-1).float().sum(0, keepdim=True)\n",
    "        res.append(correct_k.mul_(100.0 / labeled_minibatch_size))  # percantage form of acc\n",
    "    return res"
   ]
  },
  {
   "cell_type": "code",
   "execution_count": 7,
   "metadata": {},
   "outputs": [],
   "source": [
    "def create_data_loaders(train_transformation,\n",
    "                        eval_transformation,\n",
    "                        datadir,\n",
    "                        args):\n",
    "    traindir = os.path.join(datadir, args.train_subdir)\n",
    "    evaldir = os.path.join(datadir, args.eval_subdir)\n",
    "\n",
    "    assert_exactly_one([args.exclude_unlabeled, args.labeled_batch_size])\n",
    "    # Refer to cli.py and utils.py, need to ensure that there is 0 or exact number of labeled data in a batch\n",
    "\n",
    "    dataset = torchvision.datasets.ImageFolder(traindir, train_transformation)\n",
    "\n",
    "    if args.labels:\n",
    "        with open(args.labels) as f:\n",
    "            labels = dict(line.split(' ') for line in f.read().splitlines())\n",
    "        labeled_idxs, unlabeled_idxs = data.relabel_dataset(dataset, labels)\n",
    "\n",
    "    if args.exclude_unlabeled:\n",
    "        sampler = SubsetRandomSampler(labeled_idxs)\n",
    "        batch_sampler = BatchSampler(sampler, args.batch_size, drop_last=True)\n",
    "    elif args.labeled_batch_size:\n",
    "        batch_sampler = data.TwoStreamBatchSampler(\n",
    "            unlabeled_idxs, labeled_idxs, args.batch_size, args.labeled_batch_size)\n",
    "    else:\n",
    "        assert False, \"labeled batch size {}\".format(args.labeled_batch_size)\n",
    "\n",
    "    train_loader = torch.utils.data.DataLoader(dataset,\n",
    "                                               batch_sampler=batch_sampler,\n",
    "                                               num_workers=args.workers,\n",
    "                                               pin_memory=True)\n",
    "\n",
    "    eval_loader = torch.utils.data.DataLoader(\n",
    "        torchvision.datasets.ImageFolder(evaldir, eval_transformation),\n",
    "        batch_size=args.batch_size,\n",
    "        shuffle=False,\n",
    "        num_workers=2 * args.workers,  # Needs images twice as fast\n",
    "        pin_memory=True,\n",
    "        drop_last=False)\n",
    "\n",
    "    return train_loader, eval_loader, dataset"
   ]
  },
  {
   "cell_type": "markdown",
   "metadata": {},
   "source": [
    "# Train & Test functions"
   ]
  },
  {
   "cell_type": "code",
   "execution_count": 8,
   "metadata": {},
   "outputs": [],
   "source": [
    "def train(train_loader, model, ema_model, optimizer, epoch):\n",
    "    global global_step\n",
    "\n",
    "    class_criterion = nn.CrossEntropyLoss(reduction='sum', ignore_index=NO_LABEL).to(device)\n",
    "    if args.consistency_type == 'mse':\n",
    "        consistency_criterion = losses.softmax_mse_loss\n",
    "    elif args.consistency_type == 'kl':\n",
    "        consistency_criterion = losses.softmax_kl_loss\n",
    "    else:\n",
    "        assert False, args.consistency_type\n",
    "    residual_logit_criterion = losses.symmetric_mse_loss\n",
    "\n",
    "    meters = AverageMeterSet()\n",
    "\n",
    "    # switch to train mode\n",
    "    model.train()\n",
    "    ema_model.train()\n",
    "\n",
    "    end = time.time()\n",
    "    for i, ((input, ema_input), target) in enumerate(train_loader):\n",
    "        # measure data loading time\n",
    "        meters.update('data_time', time.time() - end)\n",
    "\n",
    "        adjust_learning_rate(optimizer, epoch, i, len(train_loader))\n",
    "        meters.update('lr', optimizer.param_groups[0]['lr'])\n",
    "\n",
    "        input_var = torch.autograd.Variable(input)\n",
    "        ema_input_var = torch.autograd.Variable(ema_input)   \n",
    "        target_var = torch.autograd.Variable(target.to(device, non_blocking = True))\n",
    "\n",
    "        minibatch_size = len(target_var)\n",
    "        labeled_minibatch_size = target_var.data.ne(NO_LABEL).sum()\n",
    "        assert labeled_minibatch_size > 0\n",
    "        meters.update('labeled_minibatch_size', labeled_minibatch_size)\n",
    "\n",
    "        ema_model_out = ema_model(ema_input_var)\n",
    "        model_out = model(input_var)\n",
    "\n",
    "        if isinstance(model_out, Variable):\n",
    "            assert args.logit_distance_cost < 0\n",
    "            logit1 = model_out\n",
    "            ema_logit = ema_model_out\n",
    "        else:\n",
    "            assert len(model_out) == 2\n",
    "            assert len(ema_model_out) == 2\n",
    "            logit1, logit2 = model_out\n",
    "            ema_logit, _ = ema_model_out\n",
    "\n",
    "        ema_logit = Variable(ema_logit.detach().data, requires_grad=False)\n",
    "\n",
    "        if args.logit_distance_cost >= 0:\n",
    "            class_logit, cons_logit = logit1, logit2\n",
    "            res_loss = args.logit_distance_cost * residual_logit_criterion(class_logit, cons_logit) / minibatch_size\n",
    "            meters.update('res_loss', res_loss.item())\n",
    "        else:\n",
    "            class_logit, cons_logit = logit1, logit1\n",
    "            res_loss = 0\n",
    "        \n",
    "\n",
    "        class_loss = class_criterion(class_logit, target_var) / minibatch_size\n",
    "        meters.update('class_loss', class_loss.item())\n",
    "\n",
    "        ema_class_loss = class_criterion(ema_logit, target_var) / minibatch_size\n",
    "        meters.update('ema_class_loss', ema_class_loss.item())\n",
    "\n",
    "        if args.consistency:\n",
    "            consistency_weight = get_current_consistency_weight(epoch)\n",
    "            meters.update('cons_weight', consistency_weight)\n",
    "            consistency_loss = consistency_weight * consistency_criterion(cons_logit, ema_logit) / minibatch_size\n",
    "            meters.update('cons_loss', consistency_loss.item())\n",
    "        else:\n",
    "            consistency_loss = 0\n",
    "            meters.update('cons_loss', 0)\n",
    "\n",
    "        loss = class_loss + consistency_loss + res_loss\n",
    "        assert not (np.isnan(loss.item()) or loss.item() > 1e5), 'Loss explosion: {}'.format(loss.item())\n",
    "        meters.update('loss', loss.item())\n",
    "\n",
    "\n",
    "        prec1, prec5 = accuracy(class_logit.data, target_var.data, topk=(1, 5))\n",
    "        meters.update('top1', prec1[0], labeled_minibatch_size)\n",
    "        meters.update('error1', 100. - prec1[0], labeled_minibatch_size)\n",
    "        meters.update('top5', prec5[0], labeled_minibatch_size)\n",
    "        meters.update('error5', 100. - prec5[0], labeled_minibatch_size)\n",
    "\n",
    "        ema_prec1, ema_prec5 = accuracy(ema_logit.data, target_var.data, topk=(1, 5))\n",
    "        meters.update('ema_top1', ema_prec1[0], labeled_minibatch_size)\n",
    "        meters.update('ema_error1', 100. - ema_prec1[0], labeled_minibatch_size)\n",
    "        meters.update('ema_top5', ema_prec5[0], labeled_minibatch_size)\n",
    "        meters.update('ema_error5', 100. - ema_prec5[0], labeled_minibatch_size)\n",
    "\n",
    "        # compute gradient and do SGD step\n",
    "        optimizer.zero_grad()\n",
    "        loss.backward()\n",
    "        optimizer.step()\n",
    "        global_step += 1\n",
    "        update_ema_variables(model, ema_model, args.ema_decay, global_step)\n",
    "\n",
    "        # measure elapsed time\n",
    "        meters.update('batch_time', time.time() - end)\n",
    "        end = time.time()\n",
    "\n",
    "        # if i % args.print_freq == 0:\n",
    "        #     LOG.info(\n",
    "        #         'Epoch: [{0}][{1}/{2}]\\t'\n",
    "        #         'Time {meters[batch_time]:.3f}\\t'\n",
    "        #         'Data {meters[data_time]:.3f}\\t'\n",
    "        #         'Class {meters[class_loss]:.4f}\\t'\n",
    "        #         'Cons {meters[cons_loss]:.4f}\\t'\n",
    "        #         'Prec@1 {meters[top1]:.3f}\\t'\n",
    "        #         'Prec@5 {meters[top5]:.3f}'.format(\n",
    "        #             epoch, i, len(train_loader), meters=meters))\n",
    "        #     log.record(epoch + i / len(train_loader), {\n",
    "        #         'step': global_step,\n",
    "        #         **meters.values(),\n",
    "        #         **meters.averages(),\n",
    "        #         **meters.sums()\n",
    "        #     })"
   ]
  },
  {
   "cell_type": "code",
   "execution_count": 9,
   "metadata": {},
   "outputs": [],
   "source": [
    "def validate(eval_loader, model, log, global_step, epoch):\n",
    "    class_criterion = nn.CrossEntropyLoss(reduction='sum', ignore_index=NO_LABEL).to(device)\n",
    "    meters = AverageMeterSet()\n",
    "\n",
    "    # switch to evaluate mode\n",
    "    model.eval()\n",
    "\n",
    "    end = time.time()\n",
    "    for i, (input, target) in enumerate(eval_loader):\n",
    "        meters.update('data_time', time.time() - end)\n",
    "\n",
    "        # input_var = torch.autograd.Variable(input, volatile=True)\n",
    "        input_var = torch.autograd.Variable(input)\n",
    "        target_var = torch.autograd.Variable(target.to(device, non_blocking=True))\n",
    "\n",
    "        minibatch_size = len(target_var)\n",
    "        labeled_minibatch_size = target_var.data.ne(NO_LABEL).sum()\n",
    "        assert labeled_minibatch_size > 0\n",
    "        meters.update('labeled_minibatch_size', labeled_minibatch_size)\n",
    "\n",
    "        # compute output\n",
    "#         output1, output2 = model(input_var)\n",
    "#         softmax1, softmax2 = F.softmax(output1, dim=1), F.softmax(output2, dim=1)\n",
    "\n",
    "        output1 = model(input_var)\n",
    "        class_loss = class_criterion(output1, target_var) / minibatch_size\n",
    "\n",
    "        # measure accuracy and record loss\n",
    "        prec1, prec5 = accuracy(output1.data, target_var.data, topk=(1, 5))\n",
    "        meters.update('class_loss', class_loss.item(), labeled_minibatch_size)\n",
    "        meters.update('top1', prec1[0], labeled_minibatch_size)\n",
    "        meters.update('error1', 100.0 - prec1[0], labeled_minibatch_size)\n",
    "        meters.update('top5', prec5[0], labeled_minibatch_size)\n",
    "        meters.update('error5', 100.0 - prec5[0], labeled_minibatch_size)\n",
    "\n",
    "        # measure elapsed time\n",
    "        meters.update('batch_time', time.time() - end)\n",
    "        end = time.time()\n",
    "\n",
    "    #     if i % args.print_freq == 0:\n",
    "    #         LOG.info(\n",
    "    #             'Test: [{0}/{1}]\\t'\n",
    "    #             'Time {meters[batch_time]:.3f}\\t'\n",
    "    #             'Data {meters[data_time]:.3f}\\t'\n",
    "    #             'Class {meters[class_loss]:.4f}\\t'\n",
    "    #             'Prec@1 {meters[top1]:.3f}\\t'\n",
    "    #             'Prec@5 {meters[top5]:.3f}'.format(\n",
    "    #                 i, len(eval_loader), meters=meters))\n",
    "    #\n",
    "    # LOG.info(' * Prec@1 {top1.avg:.3f}\\tPrec@5 {top5.avg:.3f}'\n",
    "    #       .format(top1=meters['top1'], top5=meters['top5']))\n",
    "    # log.record(epoch, {\n",
    "    #     'step': global_step,\n",
    "    #     **meters.values(),\n",
    "    #     **meters.averages(),\n",
    "    #     **meters.sums()\n",
    "    # })\n",
    "\n",
    "    print(meters['top1'].avg)\n",
    "    return meters['top1'].avg\n",
    "    # return prec1[0].sum / labeled_minibatch_size\n"
   ]
  },
  {
   "cell_type": "markdown",
   "metadata": {},
   "source": [
    "# Main"
   ]
  },
  {
   "cell_type": "code",
   "execution_count": 10,
   "metadata": {},
   "outputs": [
    {
     "name": "stderr",
     "output_type": "stream",
     "text": [
      "Setting up a new session...\n",
      "Visdom successfully connected to server\n"
     ]
    },
    {
     "data": {
      "text/plain": [
       "'Test'"
      ]
     },
     "execution_count": 10,
     "metadata": {},
     "output_type": "execute_result"
    }
   ],
   "source": [
    "viz = Visdom(env='mt_exercise_all_label')\n",
    "# viz.line([[0.0, 0.0]], [0.], win='Train', opts=dict(title = 'Train',\n",
    "#                                                     legend = ['Loss', 'Accuracy'],\n",
    "#                                                     xlabel = 'Epoch',\n",
    "#                                                     linecolor= np.array([[51, 153, 255], \n",
    "#                                                                 [225, 102, 102]]),\n",
    "#                                                     dash=np.array(['dash','dash'])))\n",
    "viz.line([[0.0, 0.0]], [0.], win='Test', opts=dict(title='Test',\n",
    "                                                    legend=['student', 'teacher'],\n",
    "                                                    xlabel = 'Epoch',\n",
    "                                                    linecolor= np.array([[51, 153, 255], \n",
    "                                                                [225, 102, 102]]),\n",
    "                                                    dash=np.array(['dash','dash'])))"
   ]
  },
  {
   "cell_type": "markdown",
   "metadata": {},
   "source": [
    "## Create data loader"
   ]
  },
  {
   "cell_type": "code",
   "execution_count": 11,
   "metadata": {},
   "outputs": [
    {
     "name": "stdout",
     "output_type": "stream",
     "text": [
      "7\n",
      "{'train': 1383}\n"
     ]
    }
   ],
   "source": [
    "dataset_config = datasets.facade()\n",
    "num_classes = dataset_config.pop('num_classes')\n",
    "print(num_classes)\n",
    "train_loader, eval_loader, dataset = create_data_loaders(**dataset_config, args=args)\n",
    "dataset_sizes = {'train': len(dataset) }\n",
    "print(dataset_sizes)"
   ]
  },
  {
   "cell_type": "code",
   "execution_count": 12,
   "metadata": {},
   "outputs": [
    {
     "name": "stdout",
     "output_type": "stream",
     "text": [
      "['NO_LABEL', 'b', 'c', 'd', 'g', 'n', 'p', 's']\n"
     ]
    },
    {
     "data": {
      "image/png": "[encoded data removed]",
      "text/plain": [
       "<Figure size 432x288 with 1 Axes>"
      ]
     },
     "metadata": {
      "needs_background": "light"
     },
     "output_type": "display_data"
    }
   ],
   "source": [
    "def imshow(inp, title=None):\n",
    "    \"\"\"Imshow for Tensor.\"\"\"\n",
    "    inp = inp.numpy().transpose((1, 2, 0))\n",
    "    mean = np.array([0.588, 0.618, 0.630])\n",
    "    std = np.array([0.092, 0.086, 0.086])\n",
    "    inp = std * inp + mean\n",
    "    inp = np.clip(inp, 0, 1)\n",
    "    plt.imshow(inp)\n",
    "    if title is not None:\n",
    "        plt.title(title)\n",
    "    plt.pause(0.001)  # pause a bit so that plots are updated\n",
    "\n",
    "\n",
    "\n",
    "class_names = dataset.classes\n",
    "print(class_names)\n",
    "# Get a batch of training data\n",
    "inputs, classes = next(iter(train_loader))\n",
    "inputs2 = inputs [1]\n",
    "inputs3 = inputs2 [:4]\n",
    "classes2 = classes[:4]+1\n",
    "\n",
    "# # Make a grid from batch\n",
    "out = torchvision.utils.make_grid(inputs3)\n",
    "imshow(out, title=[class_names[x] for x in classes2])"
   ]
  },
  {
   "cell_type": "markdown",
   "metadata": {},
   "source": [
    "## Create model"
   ]
  },
  {
   "cell_type": "code",
   "execution_count": 13,
   "metadata": {},
   "outputs": [
    {
     "name": "stderr",
     "output_type": "stream",
     "text": [
      "\n",
      "List of model parameters:\n",
      "=========================\n",
      "module.conv1.weight                            64 * 3 * 7 * 7 =       9,408\n",
      "module.bn1.weight                                          64 =          64\n",
      "module.bn1.bias                                            64 =          64\n",
      "module.layer1.0.conv1.weight                  64 * 64 * 1 * 1 =       4,096\n",
      "module.layer1.0.bn1.weight                                 64 =          64\n",
      "module.layer1.0.bn1.bias                                   64 =          64\n",
      "module.layer1.0.conv2.weight                  64 * 64 * 3 * 3 =      36,864\n",
      "module.layer1.0.bn2.weight                                 64 =          64\n",
      "module.layer1.0.bn2.bias                                   64 =          64\n",
      "module.layer1.0.conv3.weight                 256 * 64 * 1 * 1 =      16,384\n",
      "module.layer1.0.bn3.weight                                256 =         256\n",
      "module.layer1.0.bn3.bias                                  256 =         256\n",
      "module.layer1.0.downsample.0.weight          256 * 64 * 1 * 1 =      16,384\n",
      "module.layer1.0.downsample.1.weight                       256 =         256\n",
      "module.layer1.0.downsample.1.bias                         256 =         256\n",
      "module.layer1.1.conv1.weight                 64 * 256 * 1 * 1 =      16,384\n",
      "module.layer1.1.bn1.weight                                 64 =          64\n",
      "module.layer1.1.bn1.bias                                   64 =          64\n",
      "module.layer1.1.conv2.weight                  64 * 64 * 3 * 3 =      36,864\n",
      "module.layer1.1.bn2.weight                                 64 =          64\n",
      "module.layer1.1.bn2.bias                                   64 =          64\n",
      "module.layer1.1.conv3.weight                 256 * 64 * 1 * 1 =      16,384\n",
      "module.layer1.1.bn3.weight                                256 =         256\n",
      "module.layer1.1.bn3.bias                                  256 =         256\n",
      "module.layer1.2.conv1.weight                 64 * 256 * 1 * 1 =      16,384\n",
      "module.layer1.2.bn1.weight                                 64 =          64\n",
      "module.layer1.2.bn1.bias                                   64 =          64\n",
      "module.layer1.2.conv2.weight                  64 * 64 * 3 * 3 =      36,864\n",
      "module.layer1.2.bn2.weight                                 64 =          64\n",
      "module.layer1.2.bn2.bias                                   64 =          64\n",
      "module.layer1.2.conv3.weight                 256 * 64 * 1 * 1 =      16,384\n",
      "module.layer1.2.bn3.weight                                256 =         256\n",
      "module.layer1.2.bn3.bias                                  256 =         256\n",
      "module.layer2.0.conv1.weight                128 * 256 * 1 * 1 =      32,768\n",
      "module.layer2.0.bn1.weight                                128 =         128\n",
      "module.layer2.0.bn1.bias                                  128 =         128\n",
      "module.layer2.0.conv2.weight                128 * 128 * 3 * 3 =     147,456\n",
      "module.layer2.0.bn2.weight                                128 =         128\n",
      "module.layer2.0.bn2.bias                                  128 =         128\n",
      "module.layer2.0.conv3.weight                512 * 128 * 1 * 1 =      65,536\n",
      "module.layer2.0.bn3.weight                                512 =         512\n",
      "module.layer2.0.bn3.bias                                  512 =         512\n",
      "module.layer2.0.downsample.0.weight         512 * 256 * 1 * 1 =     131,072\n",
      "module.layer2.0.downsample.1.weight                       512 =         512\n",
      "module.layer2.0.downsample.1.bias                         512 =         512\n",
      "module.layer2.1.conv1.weight                128 * 512 * 1 * 1 =      65,536\n",
      "module.layer2.1.bn1.weight                                128 =         128\n",
      "module.layer2.1.bn1.bias                                  128 =         128\n",
      "module.layer2.1.conv2.weight                128 * 128 * 3 * 3 =     147,456\n",
      "module.layer2.1.bn2.weight                                128 =         128\n",
      "module.layer2.1.bn2.bias                                  128 =         128\n",
      "module.layer2.1.conv3.weight                512 * 128 * 1 * 1 =      65,536\n",
      "module.layer2.1.bn3.weight                                512 =         512\n",
      "module.layer2.1.bn3.bias                                  512 =         512\n",
      "module.layer2.2.conv1.weight                128 * 512 * 1 * 1 =      65,536\n",
      "module.layer2.2.bn1.weight                                128 =         128\n",
      "module.layer2.2.bn1.bias                                  128 =         128\n",
      "module.layer2.2.conv2.weight                128 * 128 * 3 * 3 =     147,456\n",
      "module.layer2.2.bn2.weight                                128 =         128\n",
      "module.layer2.2.bn2.bias                                  128 =         128\n",
      "module.layer2.2.conv3.weight                512 * 128 * 1 * 1 =      65,536\n",
      "module.layer2.2.bn3.weight                                512 =         512\n",
      "module.layer2.2.bn3.bias                                  512 =         512\n",
      "module.layer2.3.conv1.weight                128 * 512 * 1 * 1 =      65,536\n",
      "module.layer2.3.bn1.weight                                128 =         128\n",
      "module.layer2.3.bn1.bias                                  128 =         128\n",
      "module.layer2.3.conv2.weight                128 * 128 * 3 * 3 =     147,456\n",
      "module.layer2.3.bn2.weight                                128 =         128\n",
      "module.layer2.3.bn2.bias                                  128 =         128\n",
      "module.layer2.3.conv3.weight                512 * 128 * 1 * 1 =      65,536\n",
      "module.layer2.3.bn3.weight                                512 =         512\n",
      "module.layer2.3.bn3.bias                                  512 =         512\n",
      "module.layer3.0.conv1.weight                256 * 512 * 1 * 1 =     131,072\n",
      "module.layer3.0.bn1.weight                                256 =         256\n",
      "module.layer3.0.bn1.bias                                  256 =         256\n",
      "module.layer3.0.conv2.weight                256 * 256 * 3 * 3 =     589,824\n",
      "module.layer3.0.bn2.weight                                256 =         256\n",
      "module.layer3.0.bn2.bias                                  256 =         256\n",
      "module.layer3.0.conv3.weight               1024 * 256 * 1 * 1 =     262,144\n",
      "module.layer3.0.bn3.weight                               1024 =       1,024\n",
      "module.layer3.0.bn3.bias                                 1024 =       1,024\n",
      "module.layer3.0.downsample.0.weight        1024 * 512 * 1 * 1 =     524,288\n",
      "module.layer3.0.downsample.1.weight                      1024 =       1,024\n",
      "module.layer3.0.downsample.1.bias                        1024 =       1,024\n",
      "module.layer3.1.conv1.weight               256 * 1024 * 1 * 1 =     262,144\n",
      "module.layer3.1.bn1.weight                                256 =         256\n",
      "module.layer3.1.bn1.bias                                  256 =         256\n",
      "module.layer3.1.conv2.weight                256 * 256 * 3 * 3 =     589,824\n",
      "module.layer3.1.bn2.weight                                256 =         256\n",
      "module.layer3.1.bn2.bias                                  256 =         256\n",
      "module.layer3.1.conv3.weight               1024 * 256 * 1 * 1 =     262,144\n",
      "module.layer3.1.bn3.weight                               1024 =       1,024\n",
      "module.layer3.1.bn3.bias                                 1024 =       1,024\n",
      "module.layer3.2.conv1.weight               256 * 1024 * 1 * 1 =     262,144\n",
      "module.layer3.2.bn1.weight                                256 =         256\n",
      "module.layer3.2.bn1.bias                                  256 =         256\n",
      "module.layer3.2.conv2.weight                256 * 256 * 3 * 3 =     589,824\n",
      "module.layer3.2.bn2.weight                                256 =         256\n",
      "module.layer3.2.bn2.bias                                  256 =         256\n",
      "module.layer3.2.conv3.weight               1024 * 256 * 1 * 1 =     262,144\n",
      "module.layer3.2.bn3.weight                               1024 =       1,024\n",
      "module.layer3.2.bn3.bias                                 1024 =       1,024\n",
      "module.layer3.3.conv1.weight               256 * 1024 * 1 * 1 =     262,144\n",
      "module.layer3.3.bn1.weight                                256 =         256\n",
      "module.layer3.3.bn1.bias                                  256 =         256\n",
      "module.layer3.3.conv2.weight                256 * 256 * 3 * 3 =     589,824\n",
      "module.layer3.3.bn2.weight                                256 =         256\n",
      "module.layer3.3.bn2.bias                                  256 =         256\n",
      "module.layer3.3.conv3.weight               1024 * 256 * 1 * 1 =     262,144\n",
      "module.layer3.3.bn3.weight                               1024 =       1,024\n",
      "module.layer3.3.bn3.bias                                 1024 =       1,024\n",
      "module.layer3.4.conv1.weight               256 * 1024 * 1 * 1 =     262,144\n",
      "module.layer3.4.bn1.weight                                256 =         256\n",
      "module.layer3.4.bn1.bias                                  256 =         256\n",
      "module.layer3.4.conv2.weight                256 * 256 * 3 * 3 =     589,824\n",
      "module.layer3.4.bn2.weight                                256 =         256\n",
      "module.layer3.4.bn2.bias                                  256 =         256\n",
      "module.layer3.4.conv3.weight               1024 * 256 * 1 * 1 =     262,144\n",
      "module.layer3.4.bn3.weight                               1024 =       1,024\n",
      "module.layer3.4.bn3.bias                                 1024 =       1,024\n",
      "module.layer3.5.conv1.weight               256 * 1024 * 1 * 1 =     262,144\n",
      "module.layer3.5.bn1.weight                                256 =         256\n",
      "module.layer3.5.bn1.bias                                  256 =         256\n",
      "module.layer3.5.conv2.weight                256 * 256 * 3 * 3 =     589,824\n",
      "module.layer3.5.bn2.weight                                256 =         256\n",
      "module.layer3.5.bn2.bias                                  256 =         256\n",
      "module.layer3.5.conv3.weight               1024 * 256 * 1 * 1 =     262,144\n",
      "module.layer3.5.bn3.weight                               1024 =       1,024\n",
      "module.layer3.5.bn3.bias                                 1024 =       1,024\n",
      "module.layer3.6.conv1.weight               256 * 1024 * 1 * 1 =     262,144\n",
      "module.layer3.6.bn1.weight                                256 =         256\n",
      "module.layer3.6.bn1.bias                                  256 =         256\n",
      "module.layer3.6.conv2.weight                256 * 256 * 3 * 3 =     589,824\n",
      "module.layer3.6.bn2.weight                                256 =         256\n",
      "module.layer3.6.bn2.bias                                  256 =         256\n",
      "module.layer3.6.conv3.weight               1024 * 256 * 1 * 1 =     262,144\n",
      "module.layer3.6.bn3.weight                               1024 =       1,024\n",
      "module.layer3.6.bn3.bias                                 1024 =       1,024\n",
      "module.layer3.7.conv1.weight               256 * 1024 * 1 * 1 =     262,144\n",
      "module.layer3.7.bn1.weight                                256 =         256\n",
      "module.layer3.7.bn1.bias                                  256 =         256\n",
      "module.layer3.7.conv2.weight                256 * 256 * 3 * 3 =     589,824\n",
      "module.layer3.7.bn2.weight                                256 =         256\n",
      "module.layer3.7.bn2.bias                                  256 =         256\n",
      "module.layer3.7.conv3.weight               1024 * 256 * 1 * 1 =     262,144\n",
      "module.layer3.7.bn3.weight                               1024 =       1,024\n",
      "module.layer3.7.bn3.bias                                 1024 =       1,024\n",
      "module.layer3.8.conv1.weight               256 * 1024 * 1 * 1 =     262,144\n",
      "module.layer3.8.bn1.weight                                256 =         256\n",
      "module.layer3.8.bn1.bias                                  256 =         256\n",
      "module.layer3.8.conv2.weight                256 * 256 * 3 * 3 =     589,824\n",
      "module.layer3.8.bn2.weight                                256 =         256\n",
      "module.layer3.8.bn2.bias                                  256 =         256\n",
      "module.layer3.8.conv3.weight               1024 * 256 * 1 * 1 =     262,144\n",
      "module.layer3.8.bn3.weight                               1024 =       1,024\n",
      "module.layer3.8.bn3.bias                                 1024 =       1,024\n",
      "module.layer3.9.conv1.weight               256 * 1024 * 1 * 1 =     262,144\n",
      "module.layer3.9.bn1.weight                                256 =         256\n",
      "module.layer3.9.bn1.bias                                  256 =         256\n",
      "module.layer3.9.conv2.weight                256 * 256 * 3 * 3 =     589,824\n",
      "module.layer3.9.bn2.weight                                256 =         256\n",
      "module.layer3.9.bn2.bias                                  256 =         256\n",
      "module.layer3.9.conv3.weight               1024 * 256 * 1 * 1 =     262,144\n",
      "module.layer3.9.bn3.weight                               1024 =       1,024\n",
      "module.layer3.9.bn3.bias                                 1024 =       1,024\n",
      "module.layer3.10.conv1.weight              256 * 1024 * 1 * 1 =     262,144\n",
      "module.layer3.10.bn1.weight                               256 =         256\n",
      "module.layer3.10.bn1.bias                                 256 =         256\n",
      "module.layer3.10.conv2.weight               256 * 256 * 3 * 3 =     589,824\n",
      "module.layer3.10.bn2.weight                               256 =         256\n",
      "module.layer3.10.bn2.bias                                 256 =         256\n",
      "module.layer3.10.conv3.weight              1024 * 256 * 1 * 1 =     262,144\n",
      "module.layer3.10.bn3.weight                              1024 =       1,024\n",
      "module.layer3.10.bn3.bias                                1024 =       1,024\n",
      "module.layer3.11.conv1.weight              256 * 1024 * 1 * 1 =     262,144\n",
      "module.layer3.11.bn1.weight                               256 =         256\n",
      "module.layer3.11.bn1.bias                                 256 =         256\n",
      "module.layer3.11.conv2.weight               256 * 256 * 3 * 3 =     589,824\n",
      "module.layer3.11.bn2.weight                               256 =         256\n",
      "module.layer3.11.bn2.bias                                 256 =         256\n",
      "module.layer3.11.conv3.weight              1024 * 256 * 1 * 1 =     262,144\n",
      "module.layer3.11.bn3.weight                              1024 =       1,024\n",
      "module.layer3.11.bn3.bias                                1024 =       1,024\n",
      "module.layer3.12.conv1.weight              256 * 1024 * 1 * 1 =     262,144\n",
      "module.layer3.12.bn1.weight                               256 =         256\n",
      "module.layer3.12.bn1.bias                                 256 =         256\n",
      "module.layer3.12.conv2.weight               256 * 256 * 3 * 3 =     589,824\n",
      "module.layer3.12.bn2.weight                               256 =         256\n",
      "module.layer3.12.bn2.bias                                 256 =         256\n",
      "module.layer3.12.conv3.weight              1024 * 256 * 1 * 1 =     262,144\n",
      "module.layer3.12.bn3.weight                              1024 =       1,024\n",
      "module.layer3.12.bn3.bias                                1024 =       1,024\n",
      "module.layer3.13.conv1.weight              256 * 1024 * 1 * 1 =     262,144\n",
      "module.layer3.13.bn1.weight                               256 =         256\n",
      "module.layer3.13.bn1.bias                                 256 =         256\n",
      "module.layer3.13.conv2.weight               256 * 256 * 3 * 3 =     589,824\n",
      "module.layer3.13.bn2.weight                               256 =         256\n",
      "module.layer3.13.bn2.bias                                 256 =         256\n",
      "module.layer3.13.conv3.weight              1024 * 256 * 1 * 1 =     262,144\n",
      "module.layer3.13.bn3.weight                              1024 =       1,024\n",
      "module.layer3.13.bn3.bias                                1024 =       1,024\n",
      "module.layer3.14.conv1.weight              256 * 1024 * 1 * 1 =     262,144\n",
      "module.layer3.14.bn1.weight                               256 =         256\n",
      "module.layer3.14.bn1.bias                                 256 =         256\n",
      "module.layer3.14.conv2.weight               256 * 256 * 3 * 3 =     589,824\n",
      "module.layer3.14.bn2.weight                               256 =         256\n",
      "module.layer3.14.bn2.bias                                 256 =         256\n",
      "module.layer3.14.conv3.weight              1024 * 256 * 1 * 1 =     262,144\n",
      "module.layer3.14.bn3.weight                              1024 =       1,024\n",
      "module.layer3.14.bn3.bias                                1024 =       1,024\n",
      "module.layer3.15.conv1.weight              256 * 1024 * 1 * 1 =     262,144\n",
      "module.layer3.15.bn1.weight                               256 =         256\n",
      "module.layer3.15.bn1.bias                                 256 =         256\n",
      "module.layer3.15.conv2.weight               256 * 256 * 3 * 3 =     589,824\n",
      "module.layer3.15.bn2.weight                               256 =         256\n",
      "module.layer3.15.bn2.bias                                 256 =         256\n",
      "module.layer3.15.conv3.weight              1024 * 256 * 1 * 1 =     262,144\n",
      "module.layer3.15.bn3.weight                              1024 =       1,024\n",
      "module.layer3.15.bn3.bias                                1024 =       1,024\n",
      "module.layer3.16.conv1.weight              256 * 1024 * 1 * 1 =     262,144\n",
      "module.layer3.16.bn1.weight                               256 =         256\n",
      "module.layer3.16.bn1.bias                                 256 =         256\n",
      "module.layer3.16.conv2.weight               256 * 256 * 3 * 3 =     589,824\n",
      "module.layer3.16.bn2.weight                               256 =         256\n",
      "module.layer3.16.bn2.bias                                 256 =         256\n",
      "module.layer3.16.conv3.weight              1024 * 256 * 1 * 1 =     262,144\n",
      "module.layer3.16.bn3.weight                              1024 =       1,024\n",
      "module.layer3.16.bn3.bias                                1024 =       1,024\n",
      "module.layer3.17.conv1.weight              256 * 1024 * 1 * 1 =     262,144\n",
      "module.layer3.17.bn1.weight                               256 =         256\n",
      "module.layer3.17.bn1.bias                                 256 =         256\n",
      "module.layer3.17.conv2.weight               256 * 256 * 3 * 3 =     589,824\n",
      "module.layer3.17.bn2.weight                               256 =         256\n",
      "module.layer3.17.bn2.bias                                 256 =         256\n",
      "module.layer3.17.conv3.weight              1024 * 256 * 1 * 1 =     262,144\n",
      "module.layer3.17.bn3.weight                              1024 =       1,024\n",
      "module.layer3.17.bn3.bias                                1024 =       1,024\n",
      "module.layer3.18.conv1.weight              256 * 1024 * 1 * 1 =     262,144\n",
      "module.layer3.18.bn1.weight                               256 =         256\n",
      "module.layer3.18.bn1.bias                                 256 =         256\n",
      "module.layer3.18.conv2.weight               256 * 256 * 3 * 3 =     589,824\n",
      "module.layer3.18.bn2.weight                               256 =         256\n",
      "module.layer3.18.bn2.bias                                 256 =         256\n",
      "module.layer3.18.conv3.weight              1024 * 256 * 1 * 1 =     262,144\n",
      "module.layer3.18.bn3.weight                              1024 =       1,024\n",
      "module.layer3.18.bn3.bias                                1024 =       1,024\n",
      "module.layer3.19.conv1.weight              256 * 1024 * 1 * 1 =     262,144\n",
      "module.layer3.19.bn1.weight                               256 =         256\n",
      "module.layer3.19.bn1.bias                                 256 =         256\n",
      "module.layer3.19.conv2.weight               256 * 256 * 3 * 3 =     589,824\n",
      "module.layer3.19.bn2.weight                               256 =         256\n",
      "module.layer3.19.bn2.bias                                 256 =         256\n",
      "module.layer3.19.conv3.weight              1024 * 256 * 1 * 1 =     262,144\n",
      "module.layer3.19.bn3.weight                              1024 =       1,024\n",
      "module.layer3.19.bn3.bias                                1024 =       1,024\n",
      "module.layer3.20.conv1.weight              256 * 1024 * 1 * 1 =     262,144\n",
      "module.layer3.20.bn1.weight                               256 =         256\n",
      "module.layer3.20.bn1.bias                                 256 =         256\n",
      "module.layer3.20.conv2.weight               256 * 256 * 3 * 3 =     589,824\n",
      "module.layer3.20.bn2.weight                               256 =         256\n",
      "module.layer3.20.bn2.bias                                 256 =         256\n",
      "module.layer3.20.conv3.weight              1024 * 256 * 1 * 1 =     262,144\n",
      "module.layer3.20.bn3.weight                              1024 =       1,024\n",
      "module.layer3.20.bn3.bias                                1024 =       1,024\n",
      "module.layer3.21.conv1.weight              256 * 1024 * 1 * 1 =     262,144\n",
      "module.layer3.21.bn1.weight                               256 =         256\n",
      "module.layer3.21.bn1.bias                                 256 =         256\n",
      "module.layer3.21.conv2.weight               256 * 256 * 3 * 3 =     589,824\n",
      "module.layer3.21.bn2.weight                               256 =         256\n",
      "module.layer3.21.bn2.bias                                 256 =         256\n",
      "module.layer3.21.conv3.weight              1024 * 256 * 1 * 1 =     262,144\n",
      "module.layer3.21.bn3.weight                              1024 =       1,024\n",
      "module.layer3.21.bn3.bias                                1024 =       1,024\n",
      "module.layer3.22.conv1.weight              256 * 1024 * 1 * 1 =     262,144\n",
      "module.layer3.22.bn1.weight                               256 =         256\n",
      "module.layer3.22.bn1.bias                                 256 =         256\n",
      "module.layer3.22.conv2.weight               256 * 256 * 3 * 3 =     589,824\n",
      "module.layer3.22.bn2.weight                               256 =         256\n",
      "module.layer3.22.bn2.bias                                 256 =         256\n",
      "module.layer3.22.conv3.weight              1024 * 256 * 1 * 1 =     262,144\n",
      "module.layer3.22.bn3.weight                              1024 =       1,024\n",
      "module.layer3.22.bn3.bias                                1024 =       1,024\n",
      "module.layer4.0.conv1.weight               512 * 1024 * 1 * 1 =     524,288\n",
      "module.layer4.0.bn1.weight                                512 =         512\n",
      "module.layer4.0.bn1.bias                                  512 =         512\n",
      "module.layer4.0.conv2.weight                512 * 512 * 3 * 3 =   2,359,296\n",
      "module.layer4.0.bn2.weight                                512 =         512\n",
      "module.layer4.0.bn2.bias                                  512 =         512\n",
      "module.layer4.0.conv3.weight               2048 * 512 * 1 * 1 =   1,048,576\n",
      "module.layer4.0.bn3.weight                               2048 =       2,048\n",
      "module.layer4.0.bn3.bias                                 2048 =       2,048\n",
      "module.layer4.0.downsample.0.weight       2048 * 1024 * 1 * 1 =   2,097,152\n",
      "module.layer4.0.downsample.1.weight                      2048 =       2,048\n",
      "module.layer4.0.downsample.1.bias                        2048 =       2,048\n",
      "module.layer4.1.conv1.weight               512 * 2048 * 1 * 1 =   1,048,576\n",
      "module.layer4.1.bn1.weight                                512 =         512\n",
      "module.layer4.1.bn1.bias                                  512 =         512\n",
      "module.layer4.1.conv2.weight                512 * 512 * 3 * 3 =   2,359,296\n",
      "module.layer4.1.bn2.weight                                512 =         512\n",
      "module.layer4.1.bn2.bias                                  512 =         512\n",
      "module.layer4.1.conv3.weight               2048 * 512 * 1 * 1 =   1,048,576\n",
      "module.layer4.1.bn3.weight                               2048 =       2,048\n",
      "module.layer4.1.bn3.bias                                 2048 =       2,048\n",
      "module.layer4.2.conv1.weight               512 * 2048 * 1 * 1 =   1,048,576\n",
      "module.layer4.2.bn1.weight                                512 =         512\n",
      "module.layer4.2.bn1.bias                                  512 =         512\n",
      "module.layer4.2.conv2.weight                512 * 512 * 3 * 3 =   2,359,296\n",
      "module.layer4.2.bn2.weight                                512 =         512\n",
      "module.layer4.2.bn2.bias                                  512 =         512\n",
      "module.layer4.2.conv3.weight               2048 * 512 * 1 * 1 =   1,048,576\n",
      "module.layer4.2.bn3.weight                               2048 =       2,048\n",
      "module.layer4.2.bn3.bias                                 2048 =       2,048\n",
      "module.fc.weight                                     7 * 2048 =      14,336\n",
      "module.fc.bias                                              7 =           7\n",
      "===========================================================================\n",
      "all parameters                                   sum of above =  42,514,503\n",
      "\n"
     ]
    }
   ],
   "source": [
    "def create_model(ema=False):\n",
    "        \n",
    "    model = models.resnet101(pretrained=True)\n",
    "    num_rs = model.fc.in_features\n",
    "    model.fc = nn.Linear(num_rs, num_classes)\n",
    "    model = nn.DataParallel(model).to(device)\n",
    "                 \n",
    "\n",
    "\n",
    "    if ema:\n",
    "        for param in model.parameters():\n",
    "            param.detach_()  # separate the parameters from the model to not participate the param update\n",
    "            # teacher model does not require gradient descent\n",
    "\n",
    "    return model\n",
    "\n",
    "model = create_model()\n",
    "ema_model = create_model(ema=True)\n",
    "\n",
    "\n",
    "LOG.info(parameters_string(model))"
   ]
  },
  {
   "cell_type": "markdown",
   "metadata": {},
   "source": [
    "## Train & Test"
   ]
  },
  {
   "cell_type": "code",
   "execution_count": 14,
   "metadata": {},
   "outputs": [
    {
     "name": "stdout",
     "output_type": "stream",
     "text": [
      "Epoch 0/19\n",
      "----------\n"
     ]
    },
    {
     "name": "stderr",
     "output_type": "stream",
     "text": [
      "--- training epoch in 8.883179903030396 seconds ---\n",
      "Evaluating the primary model:\n",
      "Evaluating the EMA model:\n"
     ]
    },
    {
     "name": "stdout",
     "output_type": "stream",
     "text": [
      "tensor(42.5743, device='cuda:0')\n"
     ]
    },
    {
     "name": "stderr",
     "output_type": "stream",
     "text": [
      "--- validation in 1.4268901348114014 seconds ---\n"
     ]
    },
    {
     "name": "stdout",
     "output_type": "stream",
     "text": [
      "tensor(36.6337, device='cuda:0')\n",
      "Epoch 1/19\n",
      "----------\n"
     ]
    },
    {
     "name": "stderr",
     "output_type": "stream",
     "text": [
      "--- training epoch in 6.613637924194336 seconds ---\n",
      "Evaluating the primary model:\n",
      "Evaluating the EMA model:\n"
     ]
    },
    {
     "name": "stdout",
     "output_type": "stream",
     "text": [
      "tensor(66.3366, device='cuda:0')\n"
     ]
    },
    {
     "name": "stderr",
     "output_type": "stream",
     "text": [
      "--- validation in 0.9905657768249512 seconds ---\n"
     ]
    },
    {
     "name": "stdout",
     "output_type": "stream",
     "text": [
      "tensor(60.3960, device='cuda:0')\n",
      "Epoch 2/19\n",
      "----------\n"
     ]
    },
    {
     "name": "stderr",
     "output_type": "stream",
     "text": [
      "--- training epoch in 6.6347973346710205 seconds ---\n",
      "Evaluating the primary model:\n",
      "Evaluating the EMA model:\n"
     ]
    },
    {
     "name": "stdout",
     "output_type": "stream",
     "text": [
      "tensor(75.2475, device='cuda:0')\n"
     ]
    },
    {
     "name": "stderr",
     "output_type": "stream",
     "text": [
      "--- validation in 0.9985692501068115 seconds ---\n"
     ]
    },
    {
     "name": "stdout",
     "output_type": "stream",
     "text": [
      "tensor(63.3663, device='cuda:0')\n",
      "Epoch 3/19\n",
      "----------\n"
     ]
    },
    {
     "name": "stderr",
     "output_type": "stream",
     "text": [
      "--- training epoch in 6.619422912597656 seconds ---\n",
      "Evaluating the primary model:\n",
      "Evaluating the EMA model:\n"
     ]
    },
    {
     "name": "stdout",
     "output_type": "stream",
     "text": [
      "tensor(77.2277, device='cuda:0')\n"
     ]
    },
    {
     "name": "stderr",
     "output_type": "stream",
     "text": [
      "--- validation in 0.9749331474304199 seconds ---\n"
     ]
    },
    {
     "name": "stdout",
     "output_type": "stream",
     "text": [
      "tensor(69.3069, device='cuda:0')\n",
      "Epoch 4/19\n",
      "----------\n"
     ]
    },
    {
     "name": "stderr",
     "output_type": "stream",
     "text": [
      "--- training epoch in 6.661612272262573 seconds ---\n",
      "Evaluating the primary model:\n",
      "Evaluating the EMA model:\n"
     ]
    },
    {
     "name": "stdout",
     "output_type": "stream",
     "text": [
      "tensor(80.1980, device='cuda:0')\n"
     ]
    },
    {
     "name": "stderr",
     "output_type": "stream",
     "text": [
      "--- validation in 0.998222827911377 seconds ---\n"
     ]
    },
    {
     "name": "stdout",
     "output_type": "stream",
     "text": [
      "tensor(70.2970, device='cuda:0')\n",
      "Epoch 5/19\n",
      "----------\n"
     ]
    },
    {
     "name": "stderr",
     "output_type": "stream",
     "text": [
      "--- training epoch in 6.6049888134002686 seconds ---\n",
      "Evaluating the primary model:\n",
      "Evaluating the EMA model:\n"
     ]
    },
    {
     "name": "stdout",
     "output_type": "stream",
     "text": [
      "tensor(80.1980, device='cuda:0')\n"
     ]
    },
    {
     "name": "stderr",
     "output_type": "stream",
     "text": [
      "--- validation in 1.018735408782959 seconds ---\n"
     ]
    },
    {
     "name": "stdout",
     "output_type": "stream",
     "text": [
      "tensor(77.2277, device='cuda:0')\n",
      "Epoch 6/19\n",
      "----------\n"
     ]
    },
    {
     "name": "stderr",
     "output_type": "stream",
     "text": [
      "--- training epoch in 6.635613918304443 seconds ---\n",
      "Evaluating the primary model:\n",
      "Evaluating the EMA model:\n"
     ]
    },
    {
     "name": "stdout",
     "output_type": "stream",
     "text": [
      "tensor(76.2376, device='cuda:0')\n"
     ]
    },
    {
     "name": "stderr",
     "output_type": "stream",
     "text": [
      "--- validation in 0.9656050205230713 seconds ---\n"
     ]
    },
    {
     "name": "stdout",
     "output_type": "stream",
     "text": [
      "tensor(74.2574, device='cuda:0')\n",
      "Epoch 7/19\n",
      "----------\n"
     ]
    },
    {
     "name": "stderr",
     "output_type": "stream",
     "text": [
      "--- training epoch in 6.625499486923218 seconds ---\n",
      "Evaluating the primary model:\n",
      "Evaluating the EMA model:\n"
     ]
    },
    {
     "name": "stdout",
     "output_type": "stream",
     "text": [
      "tensor(79.2079, device='cuda:0')\n"
     ]
    },
    {
     "name": "stderr",
     "output_type": "stream",
     "text": [
      "--- validation in 0.9799118041992188 seconds ---\n"
     ]
    },
    {
     "name": "stdout",
     "output_type": "stream",
     "text": [
      "tensor(77.2277, device='cuda:0')\n",
      "Epoch 8/19\n",
      "----------\n"
     ]
    },
    {
     "name": "stderr",
     "output_type": "stream",
     "text": [
      "--- training epoch in 6.6562395095825195 seconds ---\n",
      "Evaluating the primary model:\n",
      "Evaluating the EMA model:\n"
     ]
    },
    {
     "name": "stdout",
     "output_type": "stream",
     "text": [
      "tensor(79.2079, device='cuda:0')\n"
     ]
    },
    {
     "name": "stderr",
     "output_type": "stream",
     "text": [
      "--- validation in 1.0050444602966309 seconds ---\n"
     ]
    },
    {
     "name": "stdout",
     "output_type": "stream",
     "text": [
      "tensor(79.2079, device='cuda:0')\n",
      "Epoch 9/19\n",
      "----------\n"
     ]
    },
    {
     "name": "stderr",
     "output_type": "stream",
     "text": [
      "--- training epoch in 6.637967109680176 seconds ---\n",
      "Evaluating the primary model:\n",
      "Evaluating the EMA model:\n"
     ]
    },
    {
     "name": "stdout",
     "output_type": "stream",
     "text": [
      "tensor(82.1782, device='cuda:0')\n"
     ]
    },
    {
     "name": "stderr",
     "output_type": "stream",
     "text": [
      "--- validation in 0.9921615123748779 seconds ---\n"
     ]
    },
    {
     "name": "stdout",
     "output_type": "stream",
     "text": [
      "tensor(80.1980, device='cuda:0')\n",
      "Epoch 10/19\n",
      "----------\n"
     ]
    },
    {
     "name": "stderr",
     "output_type": "stream",
     "text": [
      "--- training epoch in 6.6267712116241455 seconds ---\n",
      "Evaluating the primary model:\n",
      "Evaluating the EMA model:\n"
     ]
    },
    {
     "name": "stdout",
     "output_type": "stream",
     "text": [
      "tensor(86.1386, device='cuda:0')\n"
     ]
    },
    {
     "name": "stderr",
     "output_type": "stream",
     "text": [
      "--- validation in 0.972315788269043 seconds ---\n"
     ]
    },
    {
     "name": "stdout",
     "output_type": "stream",
     "text": [
      "tensor(81.1881, device='cuda:0')\n",
      "Epoch 11/19\n",
      "----------\n"
     ]
    },
    {
     "name": "stderr",
     "output_type": "stream",
     "text": [
      "--- training epoch in 6.617145299911499 seconds ---\n",
      "Evaluating the primary model:\n",
      "Evaluating the EMA model:\n"
     ]
    },
    {
     "name": "stdout",
     "output_type": "stream",
     "text": [
      "tensor(78.2178, device='cuda:0')\n"
     ]
    },
    {
     "name": "stderr",
     "output_type": "stream",
     "text": [
      "--- validation in 0.9655964374542236 seconds ---\n"
     ]
    },
    {
     "name": "stdout",
     "output_type": "stream",
     "text": [
      "tensor(80.1980, device='cuda:0')\n",
      "Epoch 12/19\n",
      "----------\n"
     ]
    },
    {
     "name": "stderr",
     "output_type": "stream",
     "text": [
      "--- training epoch in 6.6436028480529785 seconds ---\n",
      "Evaluating the primary model:\n",
      "Evaluating the EMA model:\n"
     ]
    },
    {
     "name": "stdout",
     "output_type": "stream",
     "text": [
      "tensor(82.1782, device='cuda:0')\n"
     ]
    },
    {
     "name": "stderr",
     "output_type": "stream",
     "text": [
      "--- validation in 0.9890012741088867 seconds ---\n"
     ]
    },
    {
     "name": "stdout",
     "output_type": "stream",
     "text": [
      "tensor(83.1683, device='cuda:0')\n",
      "Epoch 13/19\n",
      "----------\n"
     ]
    },
    {
     "name": "stderr",
     "output_type": "stream",
     "text": [
      "--- training epoch in 6.748420715332031 seconds ---\n",
      "Evaluating the primary model:\n",
      "Evaluating the EMA model:\n"
     ]
    },
    {
     "name": "stdout",
     "output_type": "stream",
     "text": [
      "tensor(79.2079, device='cuda:0')\n"
     ]
    },
    {
     "name": "stderr",
     "output_type": "stream",
     "text": [
      "--- validation in 0.9915947914123535 seconds ---\n"
     ]
    },
    {
     "name": "stdout",
     "output_type": "stream",
     "text": [
      "tensor(85.1485, device='cuda:0')\n",
      "Epoch 14/19\n",
      "----------\n"
     ]
    },
    {
     "name": "stderr",
     "output_type": "stream",
     "text": [
      "--- training epoch in 6.684987306594849 seconds ---\n",
      "Evaluating the primary model:\n",
      "Evaluating the EMA model:\n"
     ]
    },
    {
     "name": "stdout",
     "output_type": "stream",
     "text": [
      "tensor(74.2574, device='cuda:0')\n"
     ]
    },
    {
     "name": "stderr",
     "output_type": "stream",
     "text": [
      "--- validation in 0.9695677757263184 seconds ---\n"
     ]
    },
    {
     "name": "stdout",
     "output_type": "stream",
     "text": [
      "tensor(82.1782, device='cuda:0')\n",
      "Epoch 15/19\n",
      "----------\n"
     ]
    },
    {
     "name": "stderr",
     "output_type": "stream",
     "text": [
      "--- training epoch in 6.660938501358032 seconds ---\n",
      "Evaluating the primary model:\n",
      "Evaluating the EMA model:\n"
     ]
    },
    {
     "name": "stdout",
     "output_type": "stream",
     "text": [
      "tensor(76.2376, device='cuda:0')\n"
     ]
    },
    {
     "name": "stderr",
     "output_type": "stream",
     "text": [
      "--- validation in 0.9735250473022461 seconds ---\n"
     ]
    },
    {
     "name": "stdout",
     "output_type": "stream",
     "text": [
      "tensor(80.1980, device='cuda:0')\n",
      "Epoch 16/19\n",
      "----------\n"
     ]
    },
    {
     "name": "stderr",
     "output_type": "stream",
     "text": [
      "--- training epoch in 6.791191577911377 seconds ---\n",
      "Evaluating the primary model:\n",
      "Evaluating the EMA model:\n"
     ]
    },
    {
     "name": "stdout",
     "output_type": "stream",
     "text": [
      "tensor(75.2475, device='cuda:0')\n"
     ]
    },
    {
     "name": "stderr",
     "output_type": "stream",
     "text": [
      "--- validation in 0.9849629402160645 seconds ---\n"
     ]
    },
    {
     "name": "stdout",
     "output_type": "stream",
     "text": [
      "tensor(81.1881, device='cuda:0')\n",
      "Epoch 17/19\n",
      "----------\n"
     ]
    },
    {
     "name": "stderr",
     "output_type": "stream",
     "text": [
      "--- training epoch in 6.7010498046875 seconds ---\n",
      "Evaluating the primary model:\n",
      "Evaluating the EMA model:\n"
     ]
    },
    {
     "name": "stdout",
     "output_type": "stream",
     "text": [
      "tensor(77.2277, device='cuda:0')\n"
     ]
    },
    {
     "name": "stderr",
     "output_type": "stream",
     "text": [
      "--- validation in 0.9806122779846191 seconds ---\n"
     ]
    },
    {
     "name": "stdout",
     "output_type": "stream",
     "text": [
      "tensor(81.1881, device='cuda:0')\n",
      "Epoch 18/19\n",
      "----------\n"
     ]
    },
    {
     "name": "stderr",
     "output_type": "stream",
     "text": [
      "--- training epoch in 6.649392366409302 seconds ---\n",
      "Evaluating the primary model:\n",
      "Evaluating the EMA model:\n"
     ]
    },
    {
     "name": "stdout",
     "output_type": "stream",
     "text": [
      "tensor(80.1980, device='cuda:0')\n"
     ]
    },
    {
     "name": "stderr",
     "output_type": "stream",
     "text": [
      "--- validation in 0.9572122097015381 seconds ---\n"
     ]
    },
    {
     "name": "stdout",
     "output_type": "stream",
     "text": [
      "tensor(81.1881, device='cuda:0')\n",
      "Epoch 19/19\n",
      "----------\n"
     ]
    },
    {
     "name": "stderr",
     "output_type": "stream",
     "text": [
      "--- training epoch in 6.680346727371216 seconds ---\n",
      "Evaluating the primary model:\n",
      "Evaluating the EMA model:\n"
     ]
    },
    {
     "name": "stdout",
     "output_type": "stream",
     "text": [
      "tensor(80.1980, device='cuda:0')\n"
     ]
    },
    {
     "name": "stderr",
     "output_type": "stream",
     "text": [
      "--- validation in 0.9651103019714355 seconds ---\n"
     ]
    },
    {
     "name": "stdout",
     "output_type": "stream",
     "text": [
      "tensor(81.1881, device='cuda:0')\n",
      "Training complete in 2m 36s\n"
     ]
    }
   ],
   "source": [
    "optimizer = torch.optim.SGD(model.parameters(), args.lr,\n",
    "                            momentum=args.momentum,\n",
    "                            weight_decay=args.weight_decay,\n",
    "                            nesterov=args.nesterov)\n",
    "\n",
    "# optionally resume from a checkpoint\n",
    "if args.resume:\n",
    "    assert os.path.isfile(args.resume), \"=> no checkpoint found at '{}'\".format(args.resume)\n",
    "    LOG.info(\"=> loading checkpoint '{}'\".format(args.resume))\n",
    "    checkpoint = torch.load(args.resume)\n",
    "    args.start_epoch = checkpoint['epoch']\n",
    "    global_step = checkpoint['global_step']\n",
    "    best_prec1 = checkpoint['best_prec1']\n",
    "    model.load_state_dict(checkpoint['state_dict'])\n",
    "    ema_model.load_state_dict(checkpoint['ema_state_dict'])\n",
    "    optimizer.load_state_dict(checkpoint['optimizer'])\n",
    "    LOG.info(\"=> loaded checkpoint '{}' (epoch {})\".format(args.resume, checkpoint['epoch']))\n",
    "\n",
    "cudnn.benchmark = True\n",
    "\n",
    "if args.evaluate:\n",
    "    LOG.info(\"Evaluating the primary model:\")\n",
    "    validate(eval_loader, model, validation_log, global_step, args.start_epoch)\n",
    "    LOG.info(\"Evaluating the EMA model:\")\n",
    "    validate(eval_loader, ema_model, ema_validation_log, global_step, args.start_epoch)\n",
    "    \n",
    "since = time.time()\n",
    "for epoch in range(args.start_epoch, args.epochs):\n",
    "    print('Epoch {}/{}'.format(epoch, args.epochs - 1))\n",
    "    print('-' * 10)    \n",
    "    \n",
    "    start_time = time.time()\n",
    "    # train for one epoch\n",
    "    train(train_loader, model, ema_model, optimizer, epoch)\n",
    "    LOG.info(\"--- training epoch in %s seconds ---\" % (time.time() - start_time))\n",
    "\n",
    "    if args.evaluation_epochs and (epoch + 1) % args.evaluation_epochs == 0:\n",
    "        start_time = time.time()\n",
    "        LOG.info(\"Evaluating the primary model:\")\n",
    "        prec1 = validate(eval_loader, model, validation_log, global_step, epoch + 1)\n",
    "        LOG.info(\"Evaluating the EMA model:\")\n",
    "        ema_prec1 = validate(eval_loader, ema_model, ema_validation_log, global_step, epoch + 1)\n",
    "        LOG.info(\"--- validation in %s seconds ---\" % (time.time() - start_time))\n",
    "        is_best = ema_prec1 > best_prec1\n",
    "        best_prec1 = max(ema_prec1, best_prec1)\n",
    "        \n",
    "        viz.line([[prec1.cpu().numpy(),ema_prec1.cpu().numpy()]], [epoch], win = 'Test', update = 'append')\n",
    "        \n",
    "    else:\n",
    "        is_best = False\n",
    "\n",
    "time_elapsed = time.time() - since\n",
    "print('Training complete in {:.0f}m {:.0f}s'.format(\n",
    "time_elapsed // 60, time_elapsed % 60))\n"
   ]
  },
  {
   "cell_type": "code",
   "execution_count": 15,
   "metadata": {},
   "outputs": [],
   "source": [
    "# torch.save(model.state_dict(), '/home/bdggj/Documents/facade_defects/semi-supervised/trained_model/03052020/student')"
   ]
  },
  {
   "cell_type": "code",
   "execution_count": 16,
   "metadata": {},
   "outputs": [],
   "source": [
    "# torch.save(ema_model.state_dict(), '/home/bdggj/Documents/facade_defects/semi-supervised/trained_model/03052020/teacher')"
   ]
  },
  {
   "cell_type": "code",
   "execution_count": 17,
   "metadata": {},
   "outputs": [
    {
     "name": "stdout",
     "output_type": "stream",
     "text": [
      "tensor(85.1485, device='cuda:0')\n"
     ]
    }
   ],
   "source": [
    "print(best_prec1)"
   ]
  },
  {
   "cell_type": "code",
   "execution_count": 18,
   "metadata": {},
   "outputs": [
    {
     "name": "stdout",
     "output_type": "stream",
     "text": [
      "1588514927.9576697\n",
      "1588514926.9601197\n"
     ]
    }
   ],
   "source": [
    "print(time.time())\n",
    "print(start_time)"
   ]
  },
  {
   "cell_type": "code",
   "execution_count": null,
   "metadata": {},
   "outputs": [],
   "source": []
  }
 ],
 "metadata": {
  "kernelspec": {
   "display_name": "Python 3",
   "language": "python",
   "name": "python3"
  },
  "language_info": {
   "codemirror_mode": {
    "name": "ipython",
    "version": 3
   },
   "file_extension": ".py",
   "mimetype": "text/x-python",
   "name": "python",
   "nbconvert_exporter": "python",
   "pygments_lexer": "ipython3",
   "version": "3.7.3"
  }
 },
 "nbformat": 4,
 "nbformat_minor": 2
}
